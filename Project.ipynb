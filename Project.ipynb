# استيراد المكتبات الضرورية
import pandas as pd
import numpy as np
from sklearn.model_selection import train_test_split, GridSearchCV, cross_val_score
from sklearn.tree import DecisionTreeClassifier, plot_tree
from sklearn.metrics import classification_report, accuracy_score
import matplotlib.pyplot as plt
from sklearn.preprocessing import LabelEncoder

# الخطوة 1: تحميل البيانات
# تأكد من أن ملف dataset موجود في نفس المجلد باسم "mushroom_dataset.csv"
df = pd.read_csv('mushroom_dataset.csv')

# عرض أول خمس صفوف لفحص البيانات
print(df.head())
print(df.info())

# الخطوة 2: معالجة البيانات
# تحويل جميع القيم النصية إلى قيم رقمية باستخدام LabelEncoder
encoder = LabelEncoder()
for column in df.columns:
    if df[column].dtype == 'object':
        df[column] = encoder.fit_transform(df[column])

# فصل الميزات (Features) عن الهدف (Target)
X = df.drop('class', axis=1)  # افترض أن العمود المستهدف اسمه "class"
y = df['class']

# تقسيم البيانات إلى بيانات تدريب واختبار
X_train, X_test, y_train, y_test = train_test_split(X, y, test_size=0.2, random_state=42)

# الخطوة 3: تدريب نموذج شجرة القرار
model = DecisionTreeClassifier(random_state=42)
model.fit(X_train, y_train)

# الخطوة 4: التقييم الأساسي للنموذج
y_pred = model.predict(X_test)
print("Accuracy:", accuracy_score(y_test, y_pred))
print(classification_report(y_test, y_pred))

# الخطوة 5: ضبط المعاملات باستخدام GridSearchCV
param_grid = {
    'max_depth': [3, 5, 10, None],
    'min_samples_split': [2, 5, 10],
    'ccp_alpha': [0.0, 0.01, 0.1]
}
grid_search = GridSearchCV(DecisionTreeClassifier(random_state=42), param_grid, cv=5)
grid_search.fit(X_train, y_train)

# عرض أفضل معاملات
best_model = grid_search.best_estimator_
print("Best Parameters:", grid_search.best_params_)

# إعادة التقييم باستخدام النموذج المُحسّن
y_pred_optimized = best_model.predict(X_test)
print("Optimized Accuracy:", accuracy_score(y_test, y_pred_optimized))
print(classification_report(y_test, y_pred_optimized))

# الخطوة 6: التحقق باستخدام Cross-Validation
scores = cross_val_score(best_model, X, y, cv=10)
print("Cross-validation Accuracy:", scores.mean())

# الخطوة 7: عرض شجرة القرار
plt.figure(figsize=(15, 10))
plot_tree(best_model, feature_names=X.columns, class_names=['Edible', 'Non-Edible'], filled=True)
plt.show()

# الخطوة 8: أهمية الميزات
feature_importances = pd.DataFrame({
    'Feature': X.columns,
    'Importance': best_model.feature_importances_
}).sort_values(by='Importance', ascending=False)

print("Feature Importances:")
print(feature_importances)
